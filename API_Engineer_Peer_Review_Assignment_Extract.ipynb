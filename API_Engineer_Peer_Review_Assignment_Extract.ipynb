{
 "cells": [
  {
   "cell_type": "markdown",
   "metadata": {},
   "source": [
    "<center>\n",
    "    <img src=\"https://gitlab.com/ibm/skills-network/courses/placeholder101/-/raw/master/labs/module%201/images/IDSNlogo.png\" width=\"300\" alt=\"cognitiveclass.ai logo\"  />\n",
    "</center>\n"
   ]
  },
  {
   "cell_type": "markdown",
   "metadata": {},
   "source": [
    "# Peer Review Assignment - Data Engineer - Extract API Data\n"
   ]
  },
  {
   "cell_type": "markdown",
   "metadata": {},
   "source": [
    "Estimated time needed: **20** minutes\n"
   ]
  },
  {
   "cell_type": "markdown",
   "metadata": {},
   "source": [
    "## Objectives\n",
    "\n",
    "In this part you will:\n",
    "\n",
    "*   Collect exchange rate data using an API\n",
    "*   Store the data as a CSV\n"
   ]
  },
  {
   "cell_type": "markdown",
   "metadata": {},
   "source": [
    "For this lab, we are going to be using Python and several Python libraries. Some of these libraries might be installed in your lab environment or in SN Labs. Others may need to be installed by you. The cells below will install these libraries when executed.\n"
   ]
  },
  {
   "cell_type": "code",
   "execution_count": 1,
   "metadata": {},
   "outputs": [],
   "source": [
    "#!pip install pandas\n",
    "#!pip install requests"
   ]
  },
  {
   "cell_type": "markdown",
   "metadata": {},
   "source": [
    "## Imports\n",
    "\n",
    "Import any additional libraries you may need here.\n"
   ]
  },
  {
   "cell_type": "code",
   "execution_count": 2,
   "metadata": {},
   "outputs": [],
   "source": [
    "import requests\n",
    "import pandas as pd"
   ]
  },
  {
   "cell_type": "markdown",
   "metadata": {},
   "source": [
    "## Extract Data Using an API\n"
   ]
  },
  {
   "cell_type": "markdown",
   "metadata": {},
   "source": [
    "Using ExchangeRate-API we will extract currency exchange rate data. Use the below steps to get the access key and to get the data.\n",
    "\n",
    "1.  Open the url : [https://exchangeratesapi.io/](https://exchangeratesapi.io/?utm_medium=Exinfluencer&utm_source=Exinfluencer&utm_content=000026UJ&utm_term=10006555&utm_id=NA-SkillsNetwork-Channel-SkillsNetworkCoursesIBMDeveloperSkillsNetworkPY0221ENSkillsNetwork23455645-2021-01-01) and create a free account.\n",
    "2.  Once the account is created. You will get the Get the Free API key option on the top as shown below:\n",
    "\n",
    "<img src=\"https://cf-courses-data.s3.us.cloud-object-storage.appdomain.cloud/IBMDeveloperSkillsNetwork-PY0221EN-SkillsNetwork/labs/module%206/Final%20Assignment/Images/getapi.png\"/>\n",
    "\n",
    "3.  Copy the API key and use in the url in Question 1.\n"
   ]
  },
  {
   "cell_type": "markdown",
   "metadata": {},
   "source": [
    "### Call the API\n",
    "\n",
    "<b> Question 1</b> Using the `requests` library call the endpoint given above and save the text, remember the first few characters of the output:\n"
   ]
  },
  {
   "cell_type": "code",
   "execution_count": 3,
   "metadata": {},
   "outputs": [
    {
     "data": {
      "text/plain": [
       "{'success': True,\n",
       " 'timestamp': 1645051262,\n",
       " 'base': 'EUR',\n",
       " 'date': '2022-02-16',\n",
       " 'rates': {'AED': 4.178439,\n",
       "  'AFN': 104.084981,\n",
       "  'ALL': 121.485768,\n",
       "  'AMD': 546.539938,\n",
       "  'ANG': 2.050748,\n",
       "  'AOA': 585.916354,\n",
       "  'ARS': 121.174451,\n",
       "  'AUD': 1.581399,\n",
       "  'AWG': 2.047984,\n",
       "  'AZN': 1.936216,\n",
       "  'BAM': 1.954732,\n",
       "  'BBD': 2.29751,\n",
       "  'BDT': 97.828461,\n",
       "  'BGN': 1.955849,\n",
       "  'BHD': 0.428898,\n",
       "  'BIF': 2294.56165,\n",
       "  'BMD': 1.137611,\n",
       "  'BND': 1.52949,\n",
       "  'BOB': 7.822907,\n",
       "  'BRL': 5.844138,\n",
       "  'BSD': 1.137861,\n",
       "  'BTC': 2.5805933e-05,\n",
       "  'BTN': 85.305393,\n",
       "  'BWP': 13.071459,\n",
       "  'BYN': 2.908667,\n",
       "  'BYR': 22297.178156,\n",
       "  'BZD': 2.293612,\n",
       "  'CAD': 1.443458,\n",
       "  'CDF': 2292.286179,\n",
       "  'CHF': 1.049217,\n",
       "  'CLF': 0.032902,\n",
       "  'CLP': 907.87021,\n",
       "  'CNY': 7.209153,\n",
       "  'COP': 4509.99107,\n",
       "  'CRC': 727.441477,\n",
       "  'CUC': 1.137611,\n",
       "  'CUP': 30.146695,\n",
       "  'CVE': 110.799653,\n",
       "  'CZK': 24.350451,\n",
       "  'DJF': 202.175899,\n",
       "  'DKK': 7.440045,\n",
       "  'DOP': 64.650085,\n",
       "  'DZD': 159.828613,\n",
       "  'EGP': 17.870052,\n",
       "  'ERN': 17.064189,\n",
       "  'ETB': 57.477805,\n",
       "  'EUR': 1,\n",
       "  'FJD': 2.427213,\n",
       "  'FKP': 0.82809,\n",
       "  'GBP': 0.837646,\n",
       "  'GEL': 3.401805,\n",
       "  'GGP': 0.82809,\n",
       "  'GHS': 7.376256,\n",
       "  'GIP': 0.828089,\n",
       "  'GMD': 60.435609,\n",
       "  'GNF': 10237.362653,\n",
       "  'GTQ': 8.750186,\n",
       "  'GYD': 238.046316,\n",
       "  'HKD': 8.874675,\n",
       "  'HNL': 27.974159,\n",
       "  'HRK': 7.53087,\n",
       "  'HTG': 117.584966,\n",
       "  'HUF': 354.910758,\n",
       "  'IDR': 16238.7732,\n",
       "  'ILS': 3.629116,\n",
       "  'IMP': 0.82809,\n",
       "  'INR': 85.554052,\n",
       "  'IQD': 1661.481056,\n",
       "  'IRR': 48064.06965,\n",
       "  'ISK': 141.609514,\n",
       "  'JEP': 0.82809,\n",
       "  'JMD': 178.878544,\n",
       "  'JOD': 0.806539,\n",
       "  'JPY': 131.346876,\n",
       "  'KES': 129.289726,\n",
       "  'KGS': 96.467715,\n",
       "  'KHR': 4618.701538,\n",
       "  'KMF': 492.415253,\n",
       "  'KPW': 1023.850196,\n",
       "  'KRW': 1361.481577,\n",
       "  'KWD': 0.344244,\n",
       "  'KYD': 0.948267,\n",
       "  'KZT': 487.02713,\n",
       "  'LAK': 12994.363393,\n",
       "  'LBP': 1715.255358,\n",
       "  'LKR': 230.124365,\n",
       "  'LRD': 175.192021,\n",
       "  'LSL': 17.132683,\n",
       "  'LTL': 3.35907,\n",
       "  'LVL': 0.68813,\n",
       "  'LYD': 5.215914,\n",
       "  'MAD': 10.653156,\n",
       "  'MDL': 20.42483,\n",
       "  'MGA': 4525.417185,\n",
       "  'MKD': 61.589345,\n",
       "  'MMK': 2023.502801,\n",
       "  'MNT': 3252.238152,\n",
       "  'MOP': 9.143752,\n",
       "  'MRO': 406.126978,\n",
       "  'MUR': 49.952668,\n",
       "  'MVR': 17.576456,\n",
       "  'MWK': 914.068362,\n",
       "  'MXN': 23.066204,\n",
       "  'MYR': 4.761187,\n",
       "  'MZN': 72.613545,\n",
       "  'NAD': 17.132062,\n",
       "  'NGN': 473.029908,\n",
       "  'NIO': 40.447791,\n",
       "  'NOK': 10.086663,\n",
       "  'NPR': 136.509337,\n",
       "  'NZD': 1.703123,\n",
       "  'OMR': 0.437962,\n",
       "  'PAB': 1.137861,\n",
       "  'PEN': 4.294767,\n",
       "  'PGK': 3.998734,\n",
       "  'PHP': 58.471438,\n",
       "  'PKR': 199.934726,\n",
       "  'PLN': 4.49962,\n",
       "  'PYG': 7913.355948,\n",
       "  'QAR': 4.142037,\n",
       "  'RON': 4.942123,\n",
       "  'RSD': 117.583759,\n",
       "  'RUB': 85.420146,\n",
       "  'RWF': 1159.225742,\n",
       "  'SAR': 4.268896,\n",
       "  'SBD': 9.192855,\n",
       "  'SCR': 15.437366,\n",
       "  'SDG': 505.099693,\n",
       "  'SEK': 10.554299,\n",
       "  'SGD': 1.527897,\n",
       "  'SHP': 1.566949,\n",
       "  'SLL': 13065.463594,\n",
       "  'SOS': 664.36503,\n",
       "  'SRD': 23.584388,\n",
       "  'STD': 23546.253571,\n",
       "  'SVC': 9.956409,\n",
       "  'SYP': 2857.678904,\n",
       "  'SZL': 17.22287,\n",
       "  'THB': 36.731194,\n",
       "  'TJS': 12.854146,\n",
       "  'TMT': 3.993015,\n",
       "  'TND': 3.267785,\n",
       "  'TOP': 2.580045,\n",
       "  'TRY': 15.470145,\n",
       "  'TTD': 7.72746,\n",
       "  'TWD': 31.653118,\n",
       "  'TZS': 2633.57,\n",
       "  'UAH': 31.974144,\n",
       "  'UGX': 4003.051931,\n",
       "  'USD': 1.137611,\n",
       "  'UYU': 49.047456,\n",
       "  'UZS': 12343.081036,\n",
       "  'VEF': 243255640944.9827,\n",
       "  'VND': 25886.341272,\n",
       "  'VUV': 129.313866,\n",
       "  'WST': 2.97183,\n",
       "  'XAF': 655.695399,\n",
       "  'XAG': 0.050519,\n",
       "  'XAU': 0.000629,\n",
       "  'XCD': 3.074451,\n",
       "  'XDR': 0.812376,\n",
       "  'XOF': 655.834356,\n",
       "  'XPF': 119.793129,\n",
       "  'YER': 284.686496,\n",
       "  'ZAR': 17.066105,\n",
       "  'ZMK': 10239.867872,\n",
       "  'ZMW': 20.396346,\n",
       "  'ZWL': 366.31032}}"
      ]
     },
     "execution_count": 3,
     "metadata": {},
     "output_type": "execute_result"
    }
   ],
   "source": [
    "# Write your code here\n",
    "url = \"http://api.exchangeratesapi.io/v1/latest?base=EUR&access_key=181381fb79bc31626b463e241d51c55e\"  #Make sure to change ******* to your API key.\n",
    "data = requests.get(url)\n",
    "data.json()"
   ]
  },
  {
   "cell_type": "markdown",
   "metadata": {},
   "source": [
    "### Save as DataFrame\n",
    "\n",
    "<b> Question 2</b>  Using the data gathered turn it into a `pandas` dataframe. The dataframe should have the Currency as the index and `Rate` as their columns. Make sure to drop unnecessary columns.\n"
   ]
  },
  {
   "cell_type": "code",
   "execution_count": 4,
   "metadata": {},
   "outputs": [
    {
     "data": {
      "text/html": [
       "<div>\n",
       "<style scoped>\n",
       "    .dataframe tbody tr th:only-of-type {\n",
       "        vertical-align: middle;\n",
       "    }\n",
       "\n",
       "    .dataframe tbody tr th {\n",
       "        vertical-align: top;\n",
       "    }\n",
       "\n",
       "    .dataframe thead th {\n",
       "        text-align: right;\n",
       "    }\n",
       "</style>\n",
       "<table border=\"1\" class=\"dataframe\">\n",
       "  <thead>\n",
       "    <tr style=\"text-align: right;\">\n",
       "      <th></th>\n",
       "      <th>success</th>\n",
       "      <th>timestamp</th>\n",
       "      <th>base</th>\n",
       "      <th>date</th>\n",
       "      <th>rates</th>\n",
       "    </tr>\n",
       "  </thead>\n",
       "  <tbody>\n",
       "    <tr>\n",
       "      <th>AED</th>\n",
       "      <td>True</td>\n",
       "      <td>1645051262</td>\n",
       "      <td>EUR</td>\n",
       "      <td>2022-02-16</td>\n",
       "      <td>4.178439</td>\n",
       "    </tr>\n",
       "    <tr>\n",
       "      <th>AFN</th>\n",
       "      <td>True</td>\n",
       "      <td>1645051262</td>\n",
       "      <td>EUR</td>\n",
       "      <td>2022-02-16</td>\n",
       "      <td>104.084981</td>\n",
       "    </tr>\n",
       "    <tr>\n",
       "      <th>ALL</th>\n",
       "      <td>True</td>\n",
       "      <td>1645051262</td>\n",
       "      <td>EUR</td>\n",
       "      <td>2022-02-16</td>\n",
       "      <td>121.485768</td>\n",
       "    </tr>\n",
       "    <tr>\n",
       "      <th>AMD</th>\n",
       "      <td>True</td>\n",
       "      <td>1645051262</td>\n",
       "      <td>EUR</td>\n",
       "      <td>2022-02-16</td>\n",
       "      <td>546.539938</td>\n",
       "    </tr>\n",
       "    <tr>\n",
       "      <th>ANG</th>\n",
       "      <td>True</td>\n",
       "      <td>1645051262</td>\n",
       "      <td>EUR</td>\n",
       "      <td>2022-02-16</td>\n",
       "      <td>2.050748</td>\n",
       "    </tr>\n",
       "    <tr>\n",
       "      <th>...</th>\n",
       "      <td>...</td>\n",
       "      <td>...</td>\n",
       "      <td>...</td>\n",
       "      <td>...</td>\n",
       "      <td>...</td>\n",
       "    </tr>\n",
       "    <tr>\n",
       "      <th>YER</th>\n",
       "      <td>True</td>\n",
       "      <td>1645051262</td>\n",
       "      <td>EUR</td>\n",
       "      <td>2022-02-16</td>\n",
       "      <td>284.686496</td>\n",
       "    </tr>\n",
       "    <tr>\n",
       "      <th>ZAR</th>\n",
       "      <td>True</td>\n",
       "      <td>1645051262</td>\n",
       "      <td>EUR</td>\n",
       "      <td>2022-02-16</td>\n",
       "      <td>17.066105</td>\n",
       "    </tr>\n",
       "    <tr>\n",
       "      <th>ZMK</th>\n",
       "      <td>True</td>\n",
       "      <td>1645051262</td>\n",
       "      <td>EUR</td>\n",
       "      <td>2022-02-16</td>\n",
       "      <td>10239.867872</td>\n",
       "    </tr>\n",
       "    <tr>\n",
       "      <th>ZMW</th>\n",
       "      <td>True</td>\n",
       "      <td>1645051262</td>\n",
       "      <td>EUR</td>\n",
       "      <td>2022-02-16</td>\n",
       "      <td>20.396346</td>\n",
       "    </tr>\n",
       "    <tr>\n",
       "      <th>ZWL</th>\n",
       "      <td>True</td>\n",
       "      <td>1645051262</td>\n",
       "      <td>EUR</td>\n",
       "      <td>2022-02-16</td>\n",
       "      <td>366.310320</td>\n",
       "    </tr>\n",
       "  </tbody>\n",
       "</table>\n",
       "<p>168 rows × 5 columns</p>\n",
       "</div>"
      ],
      "text/plain": [
       "     success   timestamp base        date         rates\n",
       "AED     True  1645051262  EUR  2022-02-16      4.178439\n",
       "AFN     True  1645051262  EUR  2022-02-16    104.084981\n",
       "ALL     True  1645051262  EUR  2022-02-16    121.485768\n",
       "AMD     True  1645051262  EUR  2022-02-16    546.539938\n",
       "ANG     True  1645051262  EUR  2022-02-16      2.050748\n",
       "..       ...         ...  ...         ...           ...\n",
       "YER     True  1645051262  EUR  2022-02-16    284.686496\n",
       "ZAR     True  1645051262  EUR  2022-02-16     17.066105\n",
       "ZMK     True  1645051262  EUR  2022-02-16  10239.867872\n",
       "ZMW     True  1645051262  EUR  2022-02-16     20.396346\n",
       "ZWL     True  1645051262  EUR  2022-02-16    366.310320\n",
       "\n",
       "[168 rows x 5 columns]"
      ]
     },
     "execution_count": 4,
     "metadata": {},
     "output_type": "execute_result"
    }
   ],
   "source": [
    "# Turn the data into a dataframe\n",
    "exchange_data = pd.DataFrame(data.json())\n",
    "exchange_data"
   ]
  },
  {
   "cell_type": "code",
   "execution_count": 5,
   "metadata": {},
   "outputs": [
    {
     "data": {
      "text/html": [
       "<div>\n",
       "<style scoped>\n",
       "    .dataframe tbody tr th:only-of-type {\n",
       "        vertical-align: middle;\n",
       "    }\n",
       "\n",
       "    .dataframe tbody tr th {\n",
       "        vertical-align: top;\n",
       "    }\n",
       "\n",
       "    .dataframe thead th {\n",
       "        text-align: right;\n",
       "    }\n",
       "</style>\n",
       "<table border=\"1\" class=\"dataframe\">\n",
       "  <thead>\n",
       "    <tr style=\"text-align: right;\">\n",
       "      <th></th>\n",
       "      <th>rates</th>\n",
       "    </tr>\n",
       "  </thead>\n",
       "  <tbody>\n",
       "    <tr>\n",
       "      <th>AED</th>\n",
       "      <td>4.178439</td>\n",
       "    </tr>\n",
       "    <tr>\n",
       "      <th>AFN</th>\n",
       "      <td>104.084981</td>\n",
       "    </tr>\n",
       "    <tr>\n",
       "      <th>ALL</th>\n",
       "      <td>121.485768</td>\n",
       "    </tr>\n",
       "    <tr>\n",
       "      <th>AMD</th>\n",
       "      <td>546.539938</td>\n",
       "    </tr>\n",
       "    <tr>\n",
       "      <th>ANG</th>\n",
       "      <td>2.050748</td>\n",
       "    </tr>\n",
       "    <tr>\n",
       "      <th>...</th>\n",
       "      <td>...</td>\n",
       "    </tr>\n",
       "    <tr>\n",
       "      <th>YER</th>\n",
       "      <td>284.686496</td>\n",
       "    </tr>\n",
       "    <tr>\n",
       "      <th>ZAR</th>\n",
       "      <td>17.066105</td>\n",
       "    </tr>\n",
       "    <tr>\n",
       "      <th>ZMK</th>\n",
       "      <td>10239.867872</td>\n",
       "    </tr>\n",
       "    <tr>\n",
       "      <th>ZMW</th>\n",
       "      <td>20.396346</td>\n",
       "    </tr>\n",
       "    <tr>\n",
       "      <th>ZWL</th>\n",
       "      <td>366.310320</td>\n",
       "    </tr>\n",
       "  </tbody>\n",
       "</table>\n",
       "<p>168 rows × 1 columns</p>\n",
       "</div>"
      ],
      "text/plain": [
       "            rates\n",
       "AED      4.178439\n",
       "AFN    104.084981\n",
       "ALL    121.485768\n",
       "AMD    546.539938\n",
       "ANG      2.050748\n",
       "..            ...\n",
       "YER    284.686496\n",
       "ZAR     17.066105\n",
       "ZMK  10239.867872\n",
       "ZMW     20.396346\n",
       "ZWL    366.310320\n",
       "\n",
       "[168 rows x 1 columns]"
      ]
     },
     "execution_count": 5,
     "metadata": {},
     "output_type": "execute_result"
    }
   ],
   "source": [
    "# Drop unnescessary columns\n",
    "exchange_data.drop(columns=[\"success\", \"timestamp\", \"base\", \"date\"], inplace=True)\n",
    "exchange_data"
   ]
  },
  {
   "cell_type": "markdown",
   "metadata": {},
   "source": [
    "### Load the Data\n",
    "\n",
    "Using the dataframe save it as a CSV names `exchange_rates_1.csv`.\n"
   ]
  },
  {
   "cell_type": "code",
   "execution_count": 10,
   "metadata": {},
   "outputs": [],
   "source": [
    "# Save the Dataframe\n",
    "exchange_data.to_csv(\"exchange_rates_1.csv\")"
   ]
  },
  {
   "cell_type": "markdown",
   "metadata": {},
   "source": [
    "Your CSV should be in this format with more currencies\n",
    "\n",
    "|     | Rates      |\n",
    "| --- | ---------- |\n",
    "| AED | 4.398618   |\n",
    "| AFN | 92.917693  |\n",
    "| ALL | 123.099093 |\n",
    "| AMD | 621.935674 |\n",
    "| ANG | 2.149648   |\n"
   ]
  },
  {
   "cell_type": "markdown",
   "metadata": {},
   "source": [
    "## Authors\n"
   ]
  },
  {
   "cell_type": "markdown",
   "metadata": {},
   "source": [
    "Ramesh Sannareddy, Joseph Santarcangelo and Azim Hirjani\n"
   ]
  },
  {
   "cell_type": "markdown",
   "metadata": {},
   "source": [
    "### Other Contributors\n"
   ]
  },
  {
   "cell_type": "markdown",
   "metadata": {},
   "source": [
    "Rav Ahuja\n"
   ]
  },
  {
   "cell_type": "markdown",
   "metadata": {},
   "source": [
    "## Change Log\n"
   ]
  },
  {
   "cell_type": "markdown",
   "metadata": {},
   "source": [
    "| Date (YYYY-MM-DD) | Version | Changed By        | Change Description                 |\n",
    "| ----------------- | ------- | ----------------- | ---------------------------------- |\n",
    "| 2021-04-15        | 0.2     | Malika            | Updated the lab from USD to EUR    |\n",
    "| 2020-11-25        | 0.1     | Ramesh Sannareddy | Created initial version of the lab |\n"
   ]
  },
  {
   "cell_type": "markdown",
   "metadata": {},
   "source": [
    "Copyright © 2020 IBM Corporation. This notebook and its source code are released under the terms of the [MIT License](https://cognitiveclass.ai/mit-license?utm_medium=Exinfluencer&utm_source=Exinfluencer&utm_content=000026UJ&utm_term=10006555&utm_id=NA-SkillsNetwork-Channel-SkillsNetworkCoursesIBMDeveloperSkillsNetworkPY0221ENSkillsNetwork23455645-2021-01-01&cm_mmc=Email_Newsletter-\\_-Developer_Ed%2BTech-\\_-WW_WW-\\_-SkillsNetwork-Courses-IBM-DA0321EN-SkillsNetwork-21426264&cm_mmca1=000026UJ&cm_mmca2=10006555&cm_mmca3=M12345678&cvosrc=email.Newsletter.M12345678&cvo_campaign=000026UJ).\n"
   ]
  }
 ],
 "metadata": {
  "kernelspec": {
   "display_name": "Python",
   "language": "python",
   "name": "conda-env-python-py"
  },
  "language_info": {
   "codemirror_mode": {
    "name": "ipython",
    "version": 3
   },
   "file_extension": ".py",
   "mimetype": "text/x-python",
   "name": "python",
   "nbconvert_exporter": "python",
   "pygments_lexer": "ipython3",
   "version": "3.7.12"
  }
 },
 "nbformat": 4,
 "nbformat_minor": 4
}
